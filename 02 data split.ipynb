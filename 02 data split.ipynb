{
 "cells": [
  {
   "cell_type": "code",
   "execution_count": 3,
   "metadata": {},
   "outputs": [],
   "source": [
    "import warnings\n",
    "warnings.filterwarnings(\"ignore\")\n",
    "import numpy as np\n",
    "import pandas as pd\n",
    "pd.set_option('display.max_columns', None)\n",
    "import lightgbm as lgb\n",
    "from sklearn.model_selection import GridSearchCV\n",
    "from sklearn.metrics import confusion_matrix, roc_auc_score"
   ]
  },
  {
   "cell_type": "markdown",
   "metadata": {
    "id": "IxMV0DNjRppJ"
   },
   "source": [
    "### 1. importing dataset\n",
    "* separating out x and y\n",
    "* adding monotonic constraints (mc)\n",
    "* adding indexes of categorical variables (ic)\n",
    "* converting to categorical variables "
   ]
  },
  {
   "cell_type": "code",
   "execution_count": 4,
   "metadata": {},
   "outputs": [
    {
     "data": {
      "text/plain": [
       "(10000, 26)"
      ]
     },
     "execution_count": 4,
     "metadata": {},
     "output_type": "execute_result"
    }
   ],
   "source": [
    "df = pd.read_csv('01 data prep.csv')\n",
    "y = df['readmitted']\n",
    "x = df.drop(['readmitted'], axis=1)\n",
    "mc = [0,0,0,0,0,0,0,0,0,0,0,0,0,0,0,0,0,0,1,1,1,1,1,1,1]\n",
    "\n",
    "ic = ['race','gender','age','admission_type_id','admission_source_id','metformin','repaglinide',\n",
    "         'nateglinide','glimepiride','glipizide','glyburide','pioglitazone','rosiglitazone','acarbose',\n",
    "         'insulin','glyburide.metformin','change','diabetesMed']\n",
    "for i in ic:\n",
    "      x[i] = x[i].astype('category')\n",
    "df.shape"
   ]
  },
  {
   "cell_type": "markdown",
   "metadata": {},
   "source": [
    "### 2. Hyper-parameters \n",
    "* parameters - objective, metric, boosting_type, monotone_constraints, categorical_feature, missing\n",
    "* hyper parameters - learning_rate, max_depth, min_data_in_leaf, n_estimators, lambda_l1, lambda_l2\n",
    "* model - LGBMClassifier"
   ]
  },
  {
   "cell_type": "code",
   "execution_count": 5,
   "metadata": {},
   "outputs": [
    {
     "name": "stdout",
     "output_type": "stream",
     "text": [
      "Fitting 3 folds for each of 6400 candidates, totalling 19200 fits\n",
      "0.6534001930486989\n",
      "{'lambda_l1': 0.1, 'lambda_l2': 0.2, 'learning_rate': 0.2, 'max_depth': 2, 'min_data_in_leaf': 50, 'n_estimators': 100}\n"
     ]
    }
   ],
   "source": [
    "params = {'objective':'binary',\n",
    "          'metric':'auc',\n",
    "          'boosting_type':'gbdt',\n",
    "          'monotone_constraints':mc,\n",
    "          'categorical_feature':ic,\n",
    "          'missing':'?'}\n",
    "\n",
    "param_grid = {\"lambda_l1\":[0,0.1,0.2,0.5,1],\n",
    "              \"lambda_l2\":[0,0.1,0.2,0.5,1],\n",
    "              \"learning_rate\":[0.1,0.2,0.5,1],\n",
    "              \"max_depth\":[1,2,5,10],\n",
    "              \"min_data_in_leaf\":[10,20,50,100],\n",
    "              \"n_estimators\":[10,20,50,100]}\n",
    "\n",
    "model = lgb.LGBMClassifier(**params, random_state=0, verbose=-1)\n",
    "\n",
    "grid_search = GridSearchCV(estimator=model, param_grid=param_grid, cv=3, n_jobs=-1, verbose=1)\n",
    "grid_search.fit(x, y)\n",
    "print(grid_search.best_score_)\n",
    "print(grid_search.best_params_)"
   ]
  },
  {
   "cell_type": "code",
   "execution_count": 6,
   "metadata": {},
   "outputs": [
    {
     "name": "stdout",
     "output_type": "stream",
     "text": [
      "                Feature  Gain\n",
      "4   admission_source_id    34\n",
      "2                   age    30\n",
      "23     number_inpatient    22\n",
      "19   num_lab_procedures    21\n",
      "3     admission_type_id    18\n",
      "14              insulin    15\n",
      "22     number_emergency    14\n",
      "0                  race    13\n",
      "10            glyburide    13\n",
      "24     number_diagnoses    13\n",
      "11         pioglitazone    12\n",
      "18     time_in_hospital    10\n",
      "21    number_outpatient    10\n",
      "5             metformin     9\n",
      "9             glipizide     8\n",
      "1                gender     8\n",
      "20      num_medications     8\n",
      "17          diabetesMed     6\n",
      "7           nateglinide     6\n",
      "8           glimepiride     4\n",
      "16               change     4\n",
      "6           repaglinide     3\n",
      "12        rosiglitazone     2\n",
      "13             acarbose     0\n",
      "15  glyburide.metformin     0\n"
     ]
    }
   ],
   "source": [
    "model = lgb.LGBMClassifier(objective='binary',metric='auc',boosting_type='gbdt',\n",
    "                           monotone_constraints=mc,categorical_feature=ic,missing='?',\n",
    "                           lambda_l1=0.1,lambda_l2=0.2,learning_rate=0.2,max_depth=2,\n",
    "                           min_data_in_leaf=50,n_estimators=100,random_state=0,verbose=-1)\n",
    "model.fit(x,y)\n",
    "importances = model.feature_importances_ \n",
    "gb = pd.DataFrame({'Feature':x.columns, 'Gain':importances}).sort_values(by='Gain', ascending=False)\n",
    "print(gb)"
   ]
  },
  {
   "cell_type": "markdown",
   "metadata": {},
   "source": [
    "### 3. optimal cut-off for f1-score\n",
    "* cut-off from 0.05 to 0.65 are tested\n",
    "* the cut-off where the f1-score is highest is selected"
   ]
  },
  {
   "cell_type": "code",
   "execution_count": 8,
   "metadata": {},
   "outputs": [
    {
     "name": "stdout",
     "output_type": "stream",
     "text": [
      "5 \t 0.568\n",
      "10 \t 0.568\n",
      "15 \t 0.573\n",
      "20 \t 0.586\n",
      "25 \t 0.6\n",
      "30 \t 0.607\n",
      "35 \t 0.602\n",
      "40 \t 0.575\n",
      "45 \t 0.529\n",
      "50 \t 0.46\n",
      "55 \t 0.372\n"
     ]
    }
   ],
   "source": [
    "for i in range(5,60,5):\n",
    "    pred2 = []\n",
    "    pred1 = model.predict_proba(x)[:,1]\n",
    "    for j in pred1:\n",
    "        if j > i/100: pred2.append(1)\n",
    "        else: pred2.append(0)\n",
    "    c1 = confusion_matrix(y,pred2)\n",
    "    p = c1[1][1] / (c1[0][1]+c1[1][1])\n",
    "    r = c1[1][1] / (c1[1][0]+c1[1][1])\n",
    "    f1 = (2*p*r) / (p+r)\n",
    "    print(i,'\\t',np.round(f1,3))"
   ]
  },
  {
   "cell_type": "markdown",
   "metadata": {},
   "source": [
    "### 4. data splits\n",
    "* top 5 variables are used to sort the data\n",
    "* 0/1 are separated out and 3 splits are created\n",
    "* dropped low importance variables - glimepiride, change, repaglinide, rosiglitazone, acarbose and glyburide.metformin"
   ]
  },
  {
   "cell_type": "code",
   "execution_count": 9,
   "metadata": {},
   "outputs": [
    {
     "name": "stdout",
     "output_type": "stream",
     "text": [
      "non event : (6035, 32)\n",
      "event : (3965, 32)\n"
     ]
    }
   ],
   "source": [
    "df['admission_source_id bin'] = np.where(df['admission_source_id'].isin(['Emergency Room','?']), 'high',\n",
    "                                         np.where(df['admission_source_id'].isin(['Transfer from a Skilled Nursing Facility (SNF)','Transfer from a hospital','Transfer from another health care facility']), 'low', 'mid'))\n",
    "df['age bin'] = np.where(df['age'].isin(['[80-90)','[70-80)','[60-70)']), 'high',\n",
    "                         np.where(df['age'].isin(['[30-40)','Others']), 'low', 'mid'))\n",
    "df['number_inpatient bin'] = np.where(df['number_inpatient'].isin([0,1]), 'low', \n",
    "                                      np.where(df['number_inpatient'].isin([2,3,7]), 'mid', 'high'))\n",
    "df['num_lab_procedures bin'] = np.where(df['num_lab_procedures'].isin([101,104,108,83,73,71,81,75]),'high',\n",
    "                                                                      np.where(df['num_lab_procedures'].isin([9,18,38,5,26,23,4,15,6,89,95,120,113,109,96,114,107,98,103,]),'low','mid'))\n",
    "df['admission_type_id bin'] = np.where(df['admission_type_id'].isin(['?','Emergency']), 'high', 'low')\n",
    "\n",
    "df = df.sort_values(['admission_source_id bin','age bin','number_inpatient bin',\n",
    "                     'num_lab_procedures bin','admission_type_id bin']).reset_index(drop=True)\n",
    "df0 = df[df['readmitted']==0].reset_index(drop=True).reset_index()\n",
    "df1 = df[df['readmitted']==1].reset_index(drop=True).reset_index()\n",
    "print('non event :',df0.shape)\n",
    "print('event :',df1.shape)"
   ]
  },
  {
   "cell_type": "code",
   "execution_count": 10,
   "metadata": {},
   "outputs": [
    {
     "name": "stdout",
     "output_type": "stream",
     "text": [
      "1st split : (3334, 20)\n",
      "2nd split : (3334, 20)\n",
      "3rd split : (3332, 20)\n"
     ]
    }
   ],
   "source": [
    "split0 = pd.concat([df0[df0['index']%3==0], df1[df1['index']%3==0]])\n",
    "split0 = split0.drop(['admission_source_id bin','age bin','number_inpatient bin','num_lab_procedures bin',\n",
    "                      'admission_type_id bin','glimepiride','change','repaglinide','rosiglitazone',\n",
    "                      'acarbose','glyburide.metformin','index'], axis=1)\n",
    "print('1st split :',split0.shape)\n",
    "\n",
    "split1 = pd.concat([df0[df0['index']%3==1], df1[df1['index']%3==1]])\n",
    "split1 = split1.drop(['admission_source_id bin','age bin','number_inpatient bin','num_lab_procedures bin',\n",
    "                      'admission_type_id bin','glimepiride','change','repaglinide','rosiglitazone',\n",
    "                      'acarbose','glyburide.metformin','index'], axis=1)\n",
    "print('2nd split :',split1.shape)\n",
    "\n",
    "split2 = pd.concat([df0[df0['index']%3==2], df1[df1['index']%3==2]])\n",
    "split2 = split2.drop(['admission_source_id bin','age bin','number_inpatient bin','num_lab_procedures bin',\n",
    "                      'admission_type_id bin','glimepiride','change','repaglinide','rosiglitazone',\n",
    "                      'acarbose','glyburide.metformin','index'], axis=1)\n",
    "print('3rd split :',split2.shape)"
   ]
  },
  {
   "cell_type": "markdown",
   "metadata": {},
   "source": [
    "### 5. exporting dataset\n",
    "* exporting all the three datasets\n",
    "* training on s0+s1 and testing on s2\n",
    "* training on s1+s2 and testing on s0\n",
    "* training on s2+s0 and testing on s1"
   ]
  },
  {
   "cell_type": "code",
   "execution_count": 11,
   "metadata": {},
   "outputs": [
    {
     "data": {
      "text/plain": [
       "(10000, 20)"
      ]
     },
     "execution_count": 11,
     "metadata": {},
     "output_type": "execute_result"
    }
   ],
   "source": [
    "split0.to_csv('02 data split 0.csv', index=False)\n",
    "split1.to_csv('02 data split 1.csv', index=False)\n",
    "split2.to_csv('02 data split 2.csv', index=False)\n",
    "\n",
    "df = pd.concat([split0,split1,split2])\n",
    "df.to_csv('04 model test data.csv', index=False)\n",
    "df.shape"
   ]
  }
 ],
 "metadata": {
  "colab": {
   "provenance": []
  },
  "kernelspec": {
   "display_name": "base",
   "language": "python",
   "name": "python3"
  },
  "language_info": {
   "codemirror_mode": {
    "name": "ipython",
    "version": 3
   },
   "file_extension": ".py",
   "mimetype": "text/x-python",
   "name": "python",
   "nbconvert_exporter": "python",
   "pygments_lexer": "ipython3",
   "version": "3.11.5"
  }
 },
 "nbformat": 4,
 "nbformat_minor": 1
}
