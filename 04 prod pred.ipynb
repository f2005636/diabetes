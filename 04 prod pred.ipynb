{
 "cells": [
  {
   "cell_type": "code",
   "execution_count": 4,
   "metadata": {},
   "outputs": [],
   "source": [
    "import warnings\n",
    "warnings.filterwarnings(\"ignore\")\n",
    "import numpy as np\n",
    "import pandas as pd\n",
    "pd.set_option('display.max_columns', None)\n",
    "import lightgbm as lgb\n",
    "from sklearn.model_selection import GridSearchCV\n",
    "from sklearn.metrics import confusion_matrix, roc_auc_score"
   ]
  },
  {
   "cell_type": "markdown",
   "metadata": {},
   "source": [
    "### 1. importing train dataset"
   ]
  },
  {
   "cell_type": "code",
   "execution_count": 5,
   "metadata": {},
   "outputs": [],
   "source": [
    "df = pd.read_csv('04 model test data.csv')\n",
    "mc = [0,0,0,0,0,0,0,0,0,0,0,0,1,1,1,1,1,1,1]\n",
    "ic = ['race','gender','age','admission_type_id','admission_source_id','metformin','nateglinide',\n",
    "      'glipizide','glyburide','pioglitazone','insulin','diabetesMed']"
   ]
  },
  {
   "cell_type": "code",
   "execution_count": 6,
   "metadata": {},
   "outputs": [],
   "source": [
    "for j in ic:\n",
    "    df[j] = df[j].astype('category')\n",
    "y = df['readmitted']\n",
    "x = df.drop(['readmitted'], axis=1)"
   ]
  },
  {
   "cell_type": "markdown",
   "metadata": {},
   "source": [
    "### 2. training the model"
   ]
  },
  {
   "cell_type": "code",
   "execution_count": 7,
   "metadata": {},
   "outputs": [],
   "source": [
    "model = lgb.LGBMClassifier(objective='binary',metric='auc',boosting_type='gbdt',\n",
    "                           monotone_constraints=mc,categorical_feature=ic,missing='?',\n",
    "                           lambda_l1=0.5,lambda_l2=1,learning_rate=0.1,max_depth=20,\n",
    "                           min_data_in_leaf=50,n_estimators=50,random_state=0,verbose=-1)"
   ]
  },
  {
   "cell_type": "markdown",
   "metadata": {},
   "source": [
    "### 3. pred"
   ]
  },
  {
   "cell_type": "code",
   "execution_count": 8,
   "metadata": {},
   "outputs": [
    {
     "name": "stdout",
     "output_type": "stream",
     "text": [
      "(10000, 19)\n",
      "auc roc  : 0.726\n",
      "f1 score : 0.625\n"
     ]
    }
   ],
   "source": [
    "model.fit(x,y)\n",
    "print(x.shape)\n",
    "pred2 = []\n",
    "pred1 = model.predict_proba(x)[:,1]\n",
    "a1 = roc_auc_score(y,pred1)\n",
    "print('auc roc  :',np.round(a1,3))\n",
    "\n",
    "for j in pred1:\n",
    "    if j > 0.30: pred2.append(1)\n",
    "    else: pred2.append(0)\n",
    "c1 = confusion_matrix(y,pred2)\n",
    "p = c1[1][1] / (c1[0][1]+c1[1][1])\n",
    "r = c1[1][1] / (c1[1][0]+c1[1][1])\n",
    "f1 = (2*p*r) / (p+r)\n",
    "print('f1 score :',np.round(f1,3))"
   ]
  }
 ],
 "metadata": {
  "colab": {
   "provenance": []
  },
  "kernelspec": {
   "display_name": "base",
   "language": "python",
   "name": "python3"
  },
  "language_info": {
   "codemirror_mode": {
    "name": "ipython",
    "version": 3
   },
   "file_extension": ".py",
   "mimetype": "text/x-python",
   "name": "python",
   "nbconvert_exporter": "python",
   "pygments_lexer": "ipython3",
   "version": "3.11.5"
  }
 },
 "nbformat": 4,
 "nbformat_minor": 1
}
